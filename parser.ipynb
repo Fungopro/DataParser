{
 "cells": [
  {
   "cell_type": "code",
   "execution_count": 99,
   "outputs": [
    {
     "name": "stdout",
     "text": [
      "                UserLogin         ServerUrl SiteUrl WebUrl  \\\n0         tekhnolog.cdng2  http://srz.local       /    NaN   \n1         tekhnolog.cdng2  http://srz.local       /    NaN   \n2           brusentsev.ob  http://srz.local     NaN    NaN   \n3           brusentsev.ob  http://srz.local     NaN    NaN   \n4            belozerov.bv  http://srz.local     NaN    NaN   \n...                   ...               ...     ...    ...   \n215389           lanin.vo  http://srz.local     NaN    NaN   \n215390  nt authority\\iusr  http://srz.local     NaN    NaN   \n215391           lanin.vo  http://srz.local     NaN    NaN   \n215392  nt authority\\iusr  http://srz.local     NaN    NaN   \n215393           lanin.vo  http://srz.local     NaN    NaN   \n\n                                             DocumentPath ComingDate  \\\n0       /_layouts/15/iteco.srz.sps2013.common.analytic...  11.7.2018   \n1       /_layouts/15/iteco.srz.sps2013.common.analytic...  11.7.2018   \n2                                                       /  11.7.2018   \n3                                                       /  11.7.2018   \n4                                                       /  11.7.2018   \n...                                                   ...        ...   \n215389                                                  /  11.7.2018   \n215390                                                  /  11.7.2018   \n215391                                                  /  11.7.2018   \n215392                                                  /  11.7.2018   \n215393                                                  /  11.7.2018   \n\n       ComingTime  \n0       23:59:35   \n1       23:59:29   \n2       23:57:47   \n3       23:55:53   \n4       23:55:25   \n...           ...  \n215389  00:02:28   \n215390  00:02:28   \n215391  00:02:27   \n215392  00:02:27   \n215393  00:02:27   \n\n[215394 rows x 7 columns]\n"
     ],
     "output_type": "stream"
    }
   ],
   "source": [
    "import pandas as pd\n",
    "import sqlite3\n",
    "from sqlalchemy import create_engine\n",
    "df = pd.read_csv(\"./SRZWebAnaluticsByModules_2018-11-06.csv\",sep=\",\")\n",
    "df1 = pd.read_csv(\"./SRZWebAnaluticsByModules_2018-11-07.csv\",sep=\",\")\n",
    "# df=df.append(df1)\n",
    "engine = create_engine('sqlite:///mydatabase.db', echo=False)\n",
    "\n",
    "def ConvertTime(time): \n",
    "    if time[-2:]=='AM' and time[:2]=='12': \n",
    "        return '00' + time[2:-2]\n",
    "    elif time[-2:]=='AM': \n",
    "        return '00' + time[2:-2]\n",
    "    elif time[-2:]=='PM' and time[:2]=='12':\n",
    "        return time[0:-2]\n",
    "    else:\n",
    "        return str(int(time[:2])+12)+time[2:-2]\n",
    "#print(ConvertTime('11:59:29 PM'))\n",
    "\n",
    "\n",
    "def RemoveTrash(login):\n",
    "    return login.replace('i:0#.w|','')\n",
    "#print(RemoveTrash(' i:0#.w|spb99-uscpfarmsvc'))\n",
    "\n",
    "\n",
    "conn = sqlite3.connect(\"mydatabase.db\") # или :memory: чтобы сохранить в RAM\n",
    "cursor = conn.cursor()\n",
    " \n",
    "# Создание таблицы\n",
    "# cursor.execute(\"\"\"CREATE TABLE Visits\n",
    "#                   (UserLogin text, ServerUrl text, SiteUrl text,\n",
    "#                    WebUrl text, DocumentPath text, ComingDate date, ComingTime DATETIME )\n",
    "#                \"\"\")\n",
    "# \n",
    "# conn.commit()\n",
    "# cursor.execute(\"\"\"drop TABLE Visits\n",
    "#                \"\"\")\n",
    "# \n",
    "# conn.commit()\n",
    "\n",
    "dfTemp = pd.DataFrame(df['LogTime'].str.split(' ',1).tolist(),columns=['ComingDate','ComingTime'])\n",
    "df=df.drop(['LogTime'],axis=1)\n",
    "dfTemp['ComingTime'] = dfTemp['ComingTime'].apply(lambda x: ConvertTime(x.rjust(11,'0')))\n",
    "dfTemp['ComingDate'] = dfTemp['ComingDate'].apply(lambda x: x.replace('/','.'))\n",
    "df['UserLogin'] = df['UserLogin'].apply(lambda x: RemoveTrash(x))\n",
    "\n",
    "df = pd.concat([df,dfTemp],axis=1)\n",
    "dfTemp = pd.DataFrame(df1['LogTime'].str.split(' ',1).tolist(),columns=['ComingDate','ComingTime'])\n",
    "df1=df1.drop(['LogTime'],axis=1)\n",
    "dfTemp['ComingTime'] = dfTemp['ComingTime'].apply(lambda x: ConvertTime(x.rjust(11,'0')))\n",
    "dfTemp['ComingDate'] = dfTemp['ComingDate'].apply(lambda x: x.replace('/','.'))\n",
    "df1['UserLogin'] = df1['UserLogin'].apply(lambda x: RemoveTrash(x))\n",
    "df1 = pd.concat([df1,dfTemp],axis=1)\n",
    "# \n",
    "# df.to_sql('Visits', con=conn)\n",
    "df1.to_sql('Visits', con=conn,if_exists='append')\n",
    "# conn.commit()\n",
    "print(df1)\n"
   ],
   "metadata": {
    "collapsed": false,
    "pycharm": {
     "name": "#%%\n",
     "is_executing": false
    }
   }
  }
 ],
 "metadata": {
  "language_info": {
   "codemirror_mode": {
    "name": "ipython",
    "version": 2
   },
   "file_extension": ".py",
   "mimetype": "text/x-python",
   "name": "python",
   "nbconvert_exporter": "python",
   "pygments_lexer": "ipython2",
   "version": "2.7.6"
  },
  "kernelspec": {
   "name": "python3",
   "language": "python",
   "display_name": "Python 3"
  },
  "pycharm": {
   "stem_cell": {
    "cell_type": "raw",
    "source": [],
    "metadata": {
     "collapsed": false
    }
   }
  }
 },
 "nbformat": 4,
 "nbformat_minor": 0
}